{
 "cells": [
  {
   "cell_type": "code",
   "execution_count": null,
   "metadata": {},
   "outputs": [],
   "source": [
    "import pandas as pd\n",
    "\n",
    "\n",
    "df = pd.read_csv('Hotel_Reviews.csv', encoding='ISO-8859-1')\n",
    "print(df.head())"
   ]
  },
  {
   "cell_type": "code",
   "execution_count": null,
   "metadata": {},
   "outputs": [],
   "source": [
    "print(df.isnull().sum())"
   ]
  },
  {
   "cell_type": "code",
   "execution_count": null,
   "metadata": {},
   "outputs": [],
   "source": [
    "# Displaying rows where ReviewType is missing\n",
    "rows_with_missing_review_type = df[df['ReviewType'].isnull()]\n",
    "print(\"Rows with missing ReviewType:\")\n",
    "print(rows_with_missing_review_type)\n",
    "\n",
    "# Displaying rows where ServiceQualityScore is missing\n",
    "rows_with_missing_service_quality = df[df['ServiceQualityScore'].isnull()]\n",
    "print(\"\\nRows with missing ServiceQualityScore:\")\n",
    "print(rows_with_missing_service_quality)\n",
    "\n",
    "# Displayng rows where CleanlinessScore is missing\n",
    "rows_with_missing_cleanliness_score = df[df['CleanlinessScore'].isnull()]\n",
    "print(\"\\nRows with missing CleanlinessScore:\")\n",
    "print(rows_with_missing_cleanliness_score)\n"
   ]
  },
  {
   "cell_type": "code",
   "execution_count": null,
   "metadata": {},
   "outputs": [],
   "source": [
    "# Filling missing ReviewType with 'Negative'\n",
    "df['ReviewType'] = df['ReviewType'].fillna('Negative')\n",
    "\n",
    "# Filling missing ServiceQualityScore and CleanlinessScore with 4\n",
    "df['ServiceQualityScore'] = df['ServiceQualityScore'].fillna(4)\n",
    "df['CleanlinessScore'] = df['CleanlinessScore'].fillna(4)\n",
    "\n",
    "print(df.isnull().sum())\n"
   ]
  },
  {
   "cell_type": "code",
   "execution_count": null,
   "metadata": {},
   "outputs": [],
   "source": [
    "# Converting ReviewScore to string, remove 'Scored', and converting  back to integer\n",
    "df['ReviewScore'] = df['ReviewScore'].astype(str).str.replace('Scored', '').astype(int)\n",
    "\n",
    "# Displaying the first few rows to verify the changes\n",
    "print(df.head())\n",
    "\n",
    "print(df['ReviewScore'].dtypes)"
   ]
  },
  {
   "cell_type": "code",
   "execution_count": null,
   "metadata": {},
   "outputs": [],
   "source": [
    "# Converting the specified columns to integers\n",
    "columns_to_convert = ['RecommendationLikelihood', 'RoomComfortScore', 'ServiceQualityScore', 'CleanlinessScore']\n",
    "df[columns_to_convert] = df[columns_to_convert].astype(int)\n",
    "\n",
    "# Verify the data types of the columns\n",
    "print(df[columns_to_convert].dtypes)"
   ]
  },
  {
   "cell_type": "code",
   "execution_count": null,
   "metadata": {},
   "outputs": [],
   "source": [
    "df['FeedbackID'] = df['FeedbackID'].astype(str)\n",
    "df['GuestID'] = df['GuestID'].astype(str)\n",
    "df['HotelID'] = df['HotelID'].astype(str)\n",
    "\n",
    "print(df[['FeedbackID', 'GuestID', 'HotelID','ReviewComments','ReviewType']].dtypes)"
   ]
  },
  {
   "cell_type": "code",
   "execution_count": 39,
   "metadata": {},
   "outputs": [],
   "source": [
    "df.to_csv('Hotel_Reviews_Cleaned.csv', index=False)"
   ]
  }
 ],
 "metadata": {
  "kernelspec": {
   "display_name": "Python 3",
   "language": "python",
   "name": "python3"
  },
  "language_info": {
   "codemirror_mode": {
    "name": "ipython",
    "version": 3
   },
   "file_extension": ".py",
   "mimetype": "text/x-python",
   "name": "python",
   "nbconvert_exporter": "python",
   "pygments_lexer": "ipython3",
   "version": "3.11.9"
  }
 },
 "nbformat": 4,
 "nbformat_minor": 2
}

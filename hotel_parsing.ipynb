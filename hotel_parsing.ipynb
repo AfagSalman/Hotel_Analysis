{
 "cells": [
  {
   "cell_type": "code",
   "execution_count": 2,
   "metadata": {},
   "outputs": [
    {
     "name": "stdout",
     "output_type": "stream",
     "text": [
      "Columns before dropping null columns:\n",
      "['HotelID', 'HotelName', 'HotelStarRating', 'HotelAddress', 'HotelPhone', 'HotelEmail', 'HotelWebsite', 'room_type', 'Reviews_count', 'bed_type', 'HotelAmenities', 'NumberOfRooms', 'AverageRoomRateUSD', 'CheckInTime', 'CheckOutTime', 'LastRenovationDate', 'DistanceToAirport', 'RatingAverage', 'BookingURL', 'distance_to_center', 'breakfast', 'cancellation_policy', 'prepayment_policy']\n",
      "\n",
      "Columns after dropping specified columns:\n",
      "['HotelID', 'HotelName', 'HotelStarRating', 'HotelAddress', 'HotelPhone', 'HotelEmail', 'HotelWebsite', 'Reviews_count', 'HotelAmenities', 'NumberOfRooms', 'AverageRoomRateUSD', 'CheckInTime', 'CheckOutTime', 'LastRenovationDate', 'DistanceToAirport', 'RatingAverage', 'BookingURL', 'distance_to_center', 'breakfast', 'cancellation_policy', 'prepayment_policy']\n",
      "\n",
      "First few rows after dropping columns:\n",
      "   HotelID                     HotelName  HotelStarRating  \\\n",
      "0        1           Four Seasons Hotel                 5   \n",
      "1        2         JW Marriott Absheron                 5   \n",
      "2        3  Fairmont Baku , Flame Towers                5   \n",
      "3        4                   Hilton Baku                5   \n",
      "4        5                Hyatt Regency                 5   \n",
      "\n",
      "                               HotelAddress        HotelPhone  \\\n",
      "0     1 Neftchilar Avenue, Baku, Azerbaijan  +994 12 404 2424   \n",
      "1      674 Azadliq Square, Baku, Azerbaijan  +994 12 499 8888   \n",
      "2  1A Mehdi Huseyn Street, Baku, Azerbaijan  +994 12 565 4848   \n",
      "3       1B Azadlig Avenue, Baku, Azerbaijan  +994 12 464 5000   \n",
      "4       1033 Izmir Street, Baku, Azerbaijan  +994 12 490 1234   \n",
      "\n",
      "                          HotelEmail              HotelWebsite Reviews_count  \\\n",
      "0  reservations.baku@fourseasons.com  www.fourseasons.com/baku   511 Reviews   \n",
      "1       jwmarriott.baku@marriott.com     www.marriott.com/baku   935 Reviews   \n",
      "2     baku.reservations@fairmont.com     www.fairmont.com/baku  1505 Reviews   \n",
      "3             hilton.baku@hilton.com       www.hilton.com/baku  1211 Reviews   \n",
      "4             baku.regency@hyatt.com        www.hyatt.com/baku   712 Reviews   \n",
      "\n",
      "                                      HotelAmenities  NumberOfRooms  ...  \\\n",
      "0  Spa, Pool, Gym, Free Wi-Fi, Indoor swimming po...            171  ...   \n",
      "1  Business Center, Spa, Gym, Indoor swimming poo...            243  ...   \n",
      "2                      Rooftop Pool, Spa, Free Wi-Fi            318  ...   \n",
      "3      Executive Lounge, Fitness Center, Indoor Pool            309  ...   \n",
      "4                  Spa, Fitness Center, Outdoor Pool            159  ...   \n",
      "\n",
      "  CheckInTime  CheckOutTime  LastRenovationDate  DistanceToAirport  \\\n",
      "0         NaN           NaN                2012              25 km   \n",
      "1         NaN           NaN                2011              24 km   \n",
      "2         NaN           NaN                2013              27 km   \n",
      "3         NaN           NaN                2010              23 km   \n",
      "4         NaN           NaN                2009              26 km   \n",
      "\n",
      "  RatingAverage                                         BookingURL  \\\n",
      "0           9.3  https://www.booking.com/hotel/az/four-seasons-...   \n",
      "1           9.4  https://www.booking.com/hotel/az/jw-marriott-a...   \n",
      "2           9.2     https://www.booking.com/hotel/az/fairmont-baku   \n",
      "3           9.1       https://www.booking.com/hotel/az/hilton-baku   \n",
      "4           9.0  https://www.booking.com/hotel/az/hyatt-regency...   \n",
      "\n",
      "  distance_to_center     breakfast   cancellation_policy     prepayment_policy  \n",
      "0                0.9  Not included     Free cancellation  No prepayment needed  \n",
      "1                1.7  Not included  No free cancellation     Prepayment needed  \n",
      "2                1.5  Not included  No free cancellation     Prepayment needed  \n",
      "3                1.1  Not included  No free cancellation     Prepayment needed  \n",
      "4                2.1  Not included  No free cancellation     Prepayment needed  \n",
      "\n",
      "[5 rows x 21 columns]\n"
     ]
    }
   ],
   "source": [
    "import pandas as pd\n",
    "import re\n",
    "\n",
    "hotels_df = pd.read_csv('Hotels.csv', encoding='ISO-8859-1')\n",
    "\n",
    "print(\"Columns before dropping null columns:\")\n",
    "print(hotels_df.columns.tolist())\n",
    "\n",
    "# Dropping the 'room_type' and 'bed_type' columns \n",
    "columns_to_drop = ['room_type', 'bed_type']\n",
    "hotels_df.drop(columns=[col for col in columns_to_drop if col in hotels_df.columns], inplace=True)\n",
    "\n",
    "# Verify that the columns have been dropped\n",
    "print(\"\\nColumns after dropping specified columns:\")\n",
    "print(hotels_df.columns.tolist())\n",
    "\n",
    "\n",
    "print(\"\\nFirst few rows after dropping columns:\")\n",
    "print(hotels_df.head())"
   ]
  },
  {
   "cell_type": "code",
   "execution_count": 3,
   "metadata": {},
   "outputs": [
    {
     "name": "stdout",
     "output_type": "stream",
     "text": [
      "  Reviews_count\n",
      "0           511\n",
      "1           935\n",
      "2          1505\n",
      "3          1211\n",
      "4           712\n"
     ]
    }
   ],
   "source": [
    "# Ensure the Reviews_count column is treated as a string\n",
    "hotels_df['Reviews_count'] = hotels_df['Reviews_count'].astype(str)\n",
    "\n",
    "# Removing the word 'Reviews' from the Reviews_count column\n",
    "hotels_df['Reviews_count'] = hotels_df['Reviews_count'].str.replace(' Reviews', '', regex=False)\n",
    "\n",
    "# Verify the changes\n",
    "print(hotels_df[['Reviews_count']].head())\n"
   ]
  },
  {
   "cell_type": "code",
   "execution_count": 4,
   "metadata": {},
   "outputs": [
    {
     "name": "stdout",
     "output_type": "stream",
     "text": [
      "   Reviews_count\n",
      "0            511\n",
      "1            935\n",
      "2           1505\n",
      "3           1211\n",
      "4            712\n",
      "\n"
     ]
    }
   ],
   "source": [
    "# Converting the column to numeric, setting errors='coerce' to handle non-convertible values as NaN\n",
    "hotels_df['Reviews_count'] = pd.to_numeric(hotels_df['Reviews_count'], errors='coerce')\n",
    "\n",
    "# Filling NaN values with 0\n",
    "hotels_df['Reviews_count'] = hotels_df['Reviews_count'].fillna(0)\n",
    "\n",
    "# Converting the Reviews_count column to integer\n",
    "hotels_df['Reviews_count'] = hotels_df['Reviews_count'].astype(int)\n",
    "\n",
    "\n",
    "print(hotels_df[['Reviews_count']].head())\n",
    "\n",
    "print()"
   ]
  },
  {
   "cell_type": "code",
   "execution_count": 5,
   "metadata": {},
   "outputs": [
    {
     "name": "stdout",
     "output_type": "stream",
     "text": [
      "   AverageRoomRateUSD\n",
      "0                 500\n",
      "1                 320\n",
      "2                 280\n",
      "3                 300\n",
      "4                 270\n"
     ]
    }
   ],
   "source": [
    "# Converting to string type (if it's not already)\n",
    "hotels_df['AverageRoomRateUSD'] = hotels_df['AverageRoomRateUSD'].astype(str)\n",
    "\n",
    "# Removing the dollar sign from the AverageRoomRateUSD column\n",
    "hotels_df['AverageRoomRateUSD'] = hotels_df['AverageRoomRateUSD'].str.replace('$', '', regex=False)\n",
    "\n",
    "# Converting the column to numeric (float) after removing the dollar sign\n",
    "hotels_df['AverageRoomRateUSD'] = pd.to_numeric(hotels_df['AverageRoomRateUSD'], errors='coerce')\n",
    "\n",
    "# Filling NaN values with 0 if needed (optional)\n",
    "hotels_df['AverageRoomRateUSD'] = hotels_df['AverageRoomRateUSD'].fillna(0)\n",
    "\n",
    "# Converting the AverageRoomRateUSD column to integer\n",
    "hotels_df['AverageRoomRateUSD'] = hotels_df['AverageRoomRateUSD'].astype(int)\n",
    "\n",
    "\n",
    "print(hotels_df[['AverageRoomRateUSD']].head())\n",
    "\n"
   ]
  },
  {
   "cell_type": "code",
   "execution_count": 6,
   "metadata": {},
   "outputs": [
    {
     "name": "stdout",
     "output_type": "stream",
     "text": [
      "   DistanceToAirport  distance_to_center\n",
      "0               25.0                 0.9\n",
      "1               24.0                 1.7\n",
      "2               27.0                 1.5\n",
      "3               23.0                 1.1\n",
      "4               26.0                 2.1\n"
     ]
    }
   ],
   "source": [
    "# Converting the DistanceToAirport column to string (if it isn't already)\n",
    "hotels_df['DistanceToAirport'] = hotels_df['DistanceToAirport'].astype(str)\n",
    "\n",
    "# Removing 'km' from the DistanceToAirport column\n",
    "hotels_df['DistanceToAirport'] = hotels_df['DistanceToAirport'].str.replace('km', '', regex=False)\n",
    "\n",
    "# Converting the cleaned DistanceToAirport column to float\n",
    "hotels_df['DistanceToAirport'] = pd.to_numeric(hotels_df['DistanceToAirport'], errors='coerce')\n",
    "\n",
    "# Converting distance_to_center to float directly (if it contains no unwanted text)\n",
    "hotels_df['distance_to_center'] = pd.to_numeric(hotels_df['distance_to_center'], errors='coerce')\n",
    "\n",
    "# Filling NaN values with 0 for both columns if needed\n",
    "hotels_df['DistanceToAirport'] = hotels_df['DistanceToAirport'].fillna(0)\n",
    "hotels_df['distance_to_center'] = hotels_df['distance_to_center'].fillna(0)\n",
    "\n",
    "\n",
    "print(hotels_df[['DistanceToAirport', 'distance_to_center']].head())\n",
    "\n",
    "\n",
    "\n"
   ]
  },
  {
   "cell_type": "code",
   "execution_count": 8,
   "metadata": {},
   "outputs": [
    {
     "name": "stdout",
     "output_type": "stream",
     "text": [
      "Columns in DataFrame: Index(['HotelID', 'HotelName', 'HotelStarRating', 'HotelAddress', 'HotelPhone',\n",
      "       'HotelEmail', 'HotelWebsite', 'Reviews_count', 'NumberOfRooms',\n",
      "       'AverageRoomRateUSD', 'CheckInTime', 'CheckOutTime',\n",
      "       'LastRenovationDate', 'DistanceToAirport', 'RatingAverage',\n",
      "       'BookingURL', 'distance_to_center', 'breakfast', 'cancellation_policy',\n",
      "       'prepayment_policy', 'Free Wi-Fi', 'Spa', 'Fitness Center',\n",
      "       'Restaurant', 'Bar', 'Conference Facilities', 'Non-Smoking Rooms',\n",
      "       'Sauna', 'Business Center', 'Outdoor Pool', 'Gym',\n",
      "       'Indoor swimming pool'],\n",
      "      dtype='object')\n"
     ]
    }
   ],
   "source": [
    "\n",
    "\n",
    "# Printing available columns to check if 'HotelAmenities' exists\n",
    "print(\"Columns in DataFrame:\", hotels_df.columns)\n",
    "\n",
    "frequent_amenities = [\n",
    "    'Free Wi-Fi', 'Spa', 'Fitness Center', 'Restaurant', 'Bar',\n",
    "    'Conference Facilities', 'Non-Smoking Rooms', 'Sauna', 'Business Center',\n",
    "    'Outdoor Pool', 'Gym', 'Indoor swimming pool'\n",
    "]\n",
    "\n",
    "# Function to normalize amenity strings\n",
    "def normalize_amenities(amenities):\n",
    "    # Convert to lowercase\n",
    "    amenities = amenities.lower()\n",
    "    # Remove extra spaces and standardize terms\n",
    "    amenities = re.sub(r'\\s+', ' ', amenities).strip()  # Replace multiple spaces with a single space\n",
    "    return amenities\n",
    "\n",
    "# Checking if 'HotelAmenities' exists before proceeding\n",
    "if 'HotelAmenities' in hotels_df.columns:\n",
    "    # Step 1: Normalize the amenities column\n",
    "    hotels_df['NormalizedAmenities'] = hotels_df['HotelAmenities'].apply(normalize_amenities)\n",
    "\n",
    "    # Step 2: Creating a binary representation of amenities\n",
    "    for amenity in frequent_amenities:\n",
    "        normalized_amenity = amenity.lower()\n",
    "        hotels_df[amenity] = hotels_df['NormalizedAmenities'].apply(lambda x: 1 if normalized_amenity in x else 0)\n",
    "\n",
    "    # Step 3: Dropping the original HotelAmenities column if not needed\n",
    "    hotels_df.drop(columns=['HotelAmenities', 'NormalizedAmenities'], inplace=True)\n",
    "\n",
    "    # Show the resulting DataFrame\n",
    "    print(hotels_df)\n",
    "else:\n",
    "    print(\"The 'HotelAmenities' column does not exist in the DataFrame.\")\n"
   ]
  },
  {
   "cell_type": "code",
   "execution_count": 10,
   "metadata": {},
   "outputs": [],
   "source": [
    "# Converting HotelID and HotelStarRating to string\n",
    "hotels_df['HotelID'] = hotels_df['HotelID'].astype(str)\n",
    "hotels_df['HotelStarRating'] = hotels_df['HotelStarRating'].astype(str)\n",
    "\n",
    "# Cleaning and convert Reviews_count to int\n",
    "hotels_df['Reviews_count'] = hotels_df['Reviews_count'].astype(int)\n",
    "\n",
    "# Cleaning and convert AverageRoomRateUSD to int\n",
    "hotels_df['AverageRoomRateUSD'] = hotels_df['AverageRoomRateUSD'].astype(int)\n",
    "\n",
    "\n",
    "# Converting LastRenovationDate to int (assuming it's already in year format)\n",
    "hotels_df['LastRenovationDate'] = hotels_df['LastRenovationDate'].astype(int)\n",
    "\n",
    "# Cleaning and convert DistanceToAirport to int\n",
    "hotels_df['DistanceToAirport'] = hotels_df['DistanceToAirport'].astype(int)\n"
   ]
  },
  {
   "cell_type": "code",
   "execution_count": null,
   "metadata": {},
   "outputs": [],
   "source": [
    "# Delete the CheckInTime and CheckOutTime columns\n",
    "hotels_df.drop(columns=['CheckInTime', 'CheckOutTime'], inplace=True)\n",
    "\n",
    "# Verify that the columns have been deleted\n",
    "print(hotels_df.columns)\n"
   ]
  },
  {
   "cell_type": "code",
   "execution_count": null,
   "metadata": {},
   "outputs": [],
   "source": [
    "\n",
    "print(hotels_df.dtypes)"
   ]
  },
  {
   "cell_type": "code",
   "execution_count": 12,
   "metadata": {},
   "outputs": [],
   "source": [
    "hotels_df.to_csv('Cleaned_Hotels_data.csv', index=False)"
   ]
  },
  {
   "cell_type": "code",
   "execution_count": null,
   "metadata": {},
   "outputs": [],
   "source": []
  }
 ],
 "metadata": {
  "kernelspec": {
   "display_name": "Python 3",
   "language": "python",
   "name": "python3"
  },
  "language_info": {
   "codemirror_mode": {
    "name": "ipython",
    "version": 3
   },
   "file_extension": ".py",
   "mimetype": "text/x-python",
   "name": "python",
   "nbconvert_exporter": "python",
   "pygments_lexer": "ipython3",
   "version": "3.11.9"
  }
 },
 "nbformat": 4,
 "nbformat_minor": 2
}

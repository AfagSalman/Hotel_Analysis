{
 "cells": [
  {
   "cell_type": "code",
   "execution_count": null,
   "metadata": {},
   "outputs": [],
   "source": [
    "import pandas as pd\n",
    "import re\n",
    "\n",
    "hotels_df = pd.read_csv('Hotels.csv', encoding='ISO-8859-1')\n",
    "\n",
    "print(\"Columns before dropping null columns:\")\n",
    "print(hotels_df.columns.tolist())\n",
    "\n",
    "# Dropping the 'room_type' and 'bed_type' columns \n",
    "columns_to_drop = ['room_type', 'bed_type']\n",
    "hotels_df.drop(columns=[col for col in columns_to_drop if col in hotels_df.columns], inplace=True)\n",
    "\n",
    "# Verify that the columns have been dropped\n",
    "print(\"\\nColumns after dropping specified columns:\")\n",
    "print(hotels_df.columns.tolist())\n",
    "\n",
    "\n",
    "print(\"\\nFirst few rows after dropping columns:\")\n",
    "print(hotels_df.head())"
   ]
  },
  {
   "cell_type": "code",
   "execution_count": null,
   "metadata": {},
   "outputs": [],
   "source": [
    "# Ensure the Reviews_count column is treated as a string\n",
    "hotels_df['Reviews_count'] = hotels_df['Reviews_count'].astype(str)\n",
    "\n",
    "# Removing the word 'Reviews' from the Reviews_count column\n",
    "hotels_df['Reviews_count'] = hotels_df['Reviews_count'].str.replace(' Reviews', '', regex=False)\n",
    "\n",
    "# Verify the changes\n",
    "print(hotels_df[['Reviews_count']].head())\n"
   ]
  },
  {
   "cell_type": "code",
   "execution_count": null,
   "metadata": {},
   "outputs": [],
   "source": [
    "# Converting the column to numeric, setting errors='coerce' to handle non-convertible values as NaN\n",
    "hotels_df['Reviews_count'] = pd.to_numeric(hotels_df['Reviews_count'], errors='coerce')\n",
    "\n",
    "# Filling NaN values with 0\n",
    "hotels_df['Reviews_count'] = hotels_df['Reviews_count'].fillna(0)\n",
    "\n",
    "# Converting the Reviews_count column to integer\n",
    "hotels_df['Reviews_count'] = hotels_df['Reviews_count'].astype(int)\n",
    "\n",
    "\n",
    "print(hotels_df[['Reviews_count']].head())\n",
    "\n",
    "print()"
   ]
  },
  {
   "cell_type": "code",
   "execution_count": null,
   "metadata": {},
   "outputs": [],
   "source": [
    "# Converting to string type (if it's not already)\n",
    "hotels_df['AverageRoomRateUSD'] = hotels_df['AverageRoomRateUSD'].astype(str)\n",
    "\n",
    "# Removing the dollar sign from the AverageRoomRateUSD column\n",
    "hotels_df['AverageRoomRateUSD'] = hotels_df['AverageRoomRateUSD'].str.replace('$', '', regex=False)\n",
    "\n",
    "# Converting the column to numeric (float) after removing the dollar sign\n",
    "hotels_df['AverageRoomRateUSD'] = pd.to_numeric(hotels_df['AverageRoomRateUSD'], errors='coerce')\n",
    "\n",
    "# Filling NaN values with 0 if needed (optional)\n",
    "hotels_df['AverageRoomRateUSD'] = hotels_df['AverageRoomRateUSD'].fillna(0)\n",
    "\n",
    "# Converting the AverageRoomRateUSD column to integer\n",
    "hotels_df['AverageRoomRateUSD'] = hotels_df['AverageRoomRateUSD'].astype(int)\n",
    "\n",
    "\n",
    "print(hotels_df[['AverageRoomRateUSD']].head())\n",
    "\n"
   ]
  },
  {
   "cell_type": "code",
   "execution_count": null,
   "metadata": {},
   "outputs": [],
   "source": [
    "# Converting the DistanceToAirport column to string (if it isn't already)\n",
    "hotels_df['DistanceToAirport'] = hotels_df['DistanceToAirport'].astype(str)\n",
    "\n",
    "# Removing 'km' from the DistanceToAirport column\n",
    "hotels_df['DistanceToAirport'] = hotels_df['DistanceToAirport'].str.replace('km', '', regex=False)\n",
    "\n",
    "# Converting the cleaned DistanceToAirport column to float\n",
    "hotels_df['DistanceToAirport'] = pd.to_numeric(hotels_df['DistanceToAirport'], errors='coerce')\n",
    "\n",
    "# Converting distance_to_center to float directly (if it contains no unwanted text)\n",
    "hotels_df['distance_to_center'] = pd.to_numeric(hotels_df['distance_to_center'], errors='coerce')\n",
    "\n",
    "# Filling NaN values with 0 for both columns if needed\n",
    "hotels_df['DistanceToAirport'] = hotels_df['DistanceToAirport'].fillna(0)\n",
    "hotels_df['distance_to_center'] = hotels_df['distance_to_center'].fillna(0)\n",
    "\n",
    "\n",
    "print(hotels_df[['DistanceToAirport', 'distance_to_center']].head())\n",
    "\n",
    "\n",
    "\n"
   ]
  },
  {
   "cell_type": "code",
   "execution_count": null,
   "metadata": {},
   "outputs": [],
   "source": [
    "\n",
    "\n",
    "# Printing available columns to check if 'HotelAmenities' exists\n",
    "print(\"Columns in DataFrame:\", hotels_df.columns)\n",
    "\n",
    "frequent_amenities = [\n",
    "    'Free Wi-Fi', 'Spa', 'Fitness Center', 'Restaurant', 'Bar',\n",
    "    'Conference Facilities', 'Non-Smoking Rooms', 'Sauna', 'Business Center',\n",
    "    'Outdoor Pool', 'Gym', 'Indoor swimming pool'\n",
    "]\n",
    "\n",
    "# Function to normalize amenity strings\n",
    "def normalize_amenities(amenities):\n",
    "    # Convert to lowercase\n",
    "    amenities = amenities.lower()\n",
    "    # Remove extra spaces and standardize terms\n",
    "    amenities = re.sub(r'\\s+', ' ', amenities).strip()  # Replace multiple spaces with a single space\n",
    "    return amenities\n",
    "\n",
    "# Checking if 'HotelAmenities' exists before proceeding\n",
    "if 'HotelAmenities' in hotels_df.columns:\n",
    "    # Step 1: Normalize the amenities column\n",
    "    hotels_df['NormalizedAmenities'] = hotels_df['HotelAmenities'].apply(normalize_amenities)\n",
    "\n",
    "    # Step 2: Creating a binary representation of amenities\n",
    "    for amenity in frequent_amenities:\n",
    "        normalized_amenity = amenity.lower()\n",
    "        hotels_df[amenity] = hotels_df['NormalizedAmenities'].apply(lambda x: 1 if normalized_amenity in x else 0)\n",
    "\n",
    "    # Step 3: Dropping the original HotelAmenities column if not needed\n",
    "    hotels_df.drop(columns=['HotelAmenities', 'NormalizedAmenities'], inplace=True)\n",
    "\n",
    "    # Show the resulting DataFrame\n",
    "    print(hotels_df)\n",
    "else:\n",
    "    print(\"The 'HotelAmenities' column does not exist in the DataFrame.\")\n"
   ]
  },
  {
   "cell_type": "code",
   "execution_count": 10,
   "metadata": {},
   "outputs": [],
   "source": [
    "# Converting HotelID and HotelStarRating to string\n",
    "hotels_df['HotelID'] = hotels_df['HotelID'].astype(str)\n",
    "hotels_df['HotelStarRating'] = hotels_df['HotelStarRating'].astype(str)\n",
    "\n",
    "# Cleaning and convert Reviews_count to int\n",
    "hotels_df['Reviews_count'] = hotels_df['Reviews_count'].astype(int)\n",
    "\n",
    "# Cleaning and convert AverageRoomRateUSD to int\n",
    "hotels_df['AverageRoomRateUSD'] = hotels_df['AverageRoomRateUSD'].astype(int)\n",
    "\n",
    "\n",
    "# Converting LastRenovationDate to int (assuming it's already in year format)\n",
    "hotels_df['LastRenovationDate'] = hotels_df['LastRenovationDate'].astype(int)\n",
    "\n",
    "# Cleaning and convert DistanceToAirport to int\n",
    "hotels_df['DistanceToAirport'] = hotels_df['DistanceToAirport'].astype(int)\n"
   ]
  },
  {
   "cell_type": "code",
   "execution_count": null,
   "metadata": {},
   "outputs": [],
   "source": [
    "# Delete the CheckInTime and CheckOutTime columns\n",
    "hotels_df.drop(columns=['CheckInTime', 'CheckOutTime'], inplace=True)\n",
    "\n",
    "# Verify that the columns have been deleted\n",
    "print(hotels_df.columns)\n"
   ]
  },
  {
   "cell_type": "code",
   "execution_count": null,
   "metadata": {},
   "outputs": [],
   "source": [
    "\n",
    "print(hotels_df.dtypes)"
   ]
  },
  {
   "cell_type": "code",
   "execution_count": 12,
   "metadata": {},
   "outputs": [],
   "source": [
    "hotels_df.to_csv('Cleaned_Hotels_data.csv', index=False)"
   ]
  },
  {
   "cell_type": "code",
   "execution_count": null,
   "metadata": {},
   "outputs": [],
   "source": []
  }
 ],
 "metadata": {
  "kernelspec": {
   "display_name": "Python 3",
   "language": "python",
   "name": "python3"
  },
  "language_info": {
   "codemirror_mode": {
    "name": "ipython",
    "version": 3
   },
   "file_extension": ".py",
   "mimetype": "text/x-python",
   "name": "python",
   "nbconvert_exporter": "python",
   "pygments_lexer": "ipython3",
   "version": "3.11.9"
  }
 },
 "nbformat": 4,
 "nbformat_minor": 2
}

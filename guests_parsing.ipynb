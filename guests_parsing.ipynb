{
 "cells": [
  {
   "cell_type": "code",
   "execution_count": null,
   "metadata": {},
   "outputs": [],
   "source": [
    "import pandas as pd\n",
    "import re\n",
    "\n",
    "guests_df = pd.read_csv('Guests.csv', encoding='ISO-8859-1')\n",
    "\n",
    "\n",
    "if 'Adults' in guests_df.columns:\n",
    "    guests_df = guests_df.drop(columns=['Adults'])\n",
    "    print(\"'Adults' column dropped.\")\n",
    "else:\n",
    "    print(\"'Adults' column does not exist.\")\n",
    "\n",
    "\n",
    "print(guests_df.head())\n",
    "\n",
    "\n",
    "\n",
    "\n"
   ]
  },
  {
   "cell_type": "code",
   "execution_count": null,
   "metadata": {},
   "outputs": [],
   "source": [
    "\n",
    "# Filling missing values in the CustomerNationality column with 'Unknown'\n",
    "guests_df['CustomerNationality'] = guests_df['CustomerNationality'].fillna('Unknown')\n",
    "\n",
    "print(guests_df.isnull().sum())"
   ]
  },
  {
   "cell_type": "code",
   "execution_count": 3,
   "metadata": {},
   "outputs": [],
   "source": [
    "guests_df['RoomCount'] = guests_df['RoomCount'].str.replace('room', '').str.strip().astype(int)\n",
    "\n",
    "print(guests_df.head())\n",
    "\n",
    "# Checking the data type of RoomCount to ensure it's now an integer\n",
    "print(guests_df['RoomCount'].dtype)"
   ]
  },
  {
   "cell_type": "code",
   "execution_count": null,
   "metadata": {},
   "outputs": [],
   "source": [
    "\n",
    "# Function to clean names by removing unwanted characters and inserting spaces\n",
    "def clean_name(name):\n",
    "    # Remove unwanted characters (symbols/numbers)\n",
    "    name = re.sub(r'[^a-zA-Z\\s]', '', name)\n",
    "    # Insert a space before each uppercase letter that follows a lowercase letter\n",
    "    name = re.sub(r'(?<=[a-z])(?=[A-Z])', ' ', name)\n",
    "    # Replace multiple spaces with a single space and trim\n",
    "    return re.sub(r'\\s+', ' ', name).strip()\n",
    "\n",
    "# Apply the cleaning function to the GuestName column\n",
    "guests_df['GuestName'] = guests_df['GuestName'].apply(clean_name)\n",
    "\n",
    "print(guests_df.head)"
   ]
  },
  {
   "cell_type": "code",
   "execution_count": null,
   "metadata": {},
   "outputs": [],
   "source": [
    "print(guests_df.dtypes)"
   ]
  },
  {
   "cell_type": "code",
   "execution_count": null,
   "metadata": {},
   "outputs": [],
   "source": [
    "\n",
    "\n",
    "guests_df['GuestlD'] = guests_df['GuestlD'].astype(str)\n",
    "\n",
    "\n",
    "# Converting BookingDate, CheckInDate, and CheckOutDate to datetime\n",
    "guests_df['BookingDate'] = pd.to_datetime(guests_df['BookingDate'], errors='coerce')\n",
    "guests_df['CheckInDate'] = pd.to_datetime(guests_df['CheckInDate'], errors='coerce')\n",
    "guests_df['CheckOutDate'] = pd.to_datetime(guests_df['CheckOutDate'], errors='coerce')\n",
    "\n",
    "\n",
    "# Converting RoomCount to integer \n",
    "guests_df['RoomCount'] = guests_df['RoomCount'].astype(int)\n",
    "\n",
    "print(guests_df.dtypes)\n",
    "\n"
   ]
  },
  {
   "cell_type": "code",
   "execution_count": null,
   "metadata": {},
   "outputs": [],
   "source": [
    "guests_df['StayingDuration'] = (guests_df['CheckOutDate'] - guests_df['CheckInDate']).dt.days\n",
    "\n",
    "print(guests_df[['CheckInDate', 'CheckOutDate', 'StayingDuration']].head())"
   ]
  },
  {
   "cell_type": "code",
   "execution_count": null,
   "metadata": {},
   "outputs": [],
   "source": [
    "# Calculate the difference between BookingDate and CheckInDate\n",
    "guests_df['DaysUntilCheckIn'] = (guests_df['CheckInDate'] - guests_df['BookingDate']).dt.days.astype(int)\n",
    "\n",
    "print(guests_df[['BookingDate','CheckInDate', 'CheckOutDate', 'StayingDuration','DaysUntilCheckIn']].head())"
   ]
  },
  {
   "cell_type": "code",
   "execution_count": 79,
   "metadata": {},
   "outputs": [],
   "source": [
    "guests_df.to_csv('Cleaned_Guests.csv', index=False)"
   ]
  }
 ],
 "metadata": {
  "kernelspec": {
   "display_name": "Python 3",
   "language": "python",
   "name": "python3"
  },
  "language_info": {
   "codemirror_mode": {
    "name": "ipython",
    "version": 3
   },
   "file_extension": ".py",
   "mimetype": "text/x-python",
   "name": "python",
   "nbconvert_exporter": "python",
   "pygments_lexer": "ipython3",
   "version": "3.11.9"
  }
 },
 "nbformat": 4,
 "nbformat_minor": 2
}
